{
 "cells": [
  {
   "cell_type": "code",
   "execution_count": 9,
   "metadata": {},
   "outputs": [
    {
     "name": "stdout",
     "output_type": "stream",
     "text": [
      "   d1  d2  d3  d4\n",
      "0   6   2   5   9\n",
      "1   6   3   7   6\n",
      "2   3   4   2   7\n",
      "3   4   1   8   2\n"
     ]
    }
   ],
   "source": [
    "# working wioth dataframe\n",
    "import pandas as pd\n",
    "li1={\n",
    "    \"d1\" : [6,6,3,4],\n",
    "    \"d2\" : [2,3,4,1],\n",
    "    \"d3\" : [5,7,2,8],\n",
    "    \"d4\" : [9,6,7,2]}\n",
    "\n",
    "\n",
    "df=pd.DataFrame(li1)\n",
    "print(df)"
   ]
  },
  {
   "cell_type": "code",
   "execution_count": 10,
   "metadata": {},
   "outputs": [
    {
     "name": "stdout",
     "output_type": "stream",
     "text": [
      "d1    6\n",
      "d2    4\n",
      "d3    8\n",
      "d4    9\n",
      "dtype: int64\n"
     ]
    }
   ],
   "source": [
    "print(df.max()) #max in column"
   ]
  },
  {
   "cell_type": "code",
   "execution_count": 11,
   "metadata": {},
   "outputs": [
    {
     "name": "stdout",
     "output_type": "stream",
     "text": [
      "0    9\n",
      "1    7\n",
      "2    7\n",
      "3    8\n",
      "dtype: int64\n"
     ]
    }
   ],
   "source": [
    "print(df.max(axis=1)) #1 is row, so max per row"
   ]
  },
  {
   "cell_type": "code",
   "execution_count": 12,
   "metadata": {},
   "outputs": [
    {
     "name": "stdout",
     "output_type": "stream",
     "text": [
      "d1    3\n",
      "d2    1\n",
      "d3    2\n",
      "d4    2\n",
      "dtype: int64\n"
     ]
    }
   ],
   "source": [
    "print(df.min()) #mininmum value column wise"
   ]
  },
  {
   "cell_type": "code",
   "execution_count": 13,
   "metadata": {},
   "outputs": [
    {
     "name": "stdout",
     "output_type": "stream",
     "text": [
      "0    2\n",
      "1    3\n",
      "2    2\n",
      "3    1\n",
      "dtype: int64\n"
     ]
    }
   ],
   "source": [
    "print(df.min(axis=1)) #minimum row wise"
   ]
  },
  {
   "cell_type": "code",
   "execution_count": 14,
   "metadata": {},
   "outputs": [
    {
     "name": "stdout",
     "output_type": "stream",
     "text": [
      "19\n"
     ]
    }
   ],
   "source": [
    "print(df['d1'].sum()) #sum of d1 column"
   ]
  },
  {
   "cell_type": "code",
   "execution_count": 15,
   "metadata": {},
   "outputs": [
    {
     "name": "stdout",
     "output_type": "stream",
     "text": [
      "d1    4\n",
      "d2    4\n",
      "d3    4\n",
      "d4    4\n",
      "dtype: int64\n"
     ]
    }
   ],
   "source": [
    "print(df.count()) #value count"
   ]
  },
  {
   "cell_type": "code",
   "execution_count": 16,
   "metadata": {},
   "outputs": [
    {
     "name": "stdout",
     "output_type": "stream",
     "text": [
      "0    4\n",
      "1    4\n",
      "2    4\n",
      "3    4\n",
      "dtype: int64\n"
     ]
    }
   ],
   "source": [
    "print(df.count(axis=1)) #value count row wise"
   ]
  },
  {
   "cell_type": "code",
   "execution_count": 17,
   "metadata": {},
   "outputs": [
    {
     "name": "stdout",
     "output_type": "stream",
     "text": [
      "d1    4.75\n",
      "d2    2.50\n",
      "d3    5.50\n",
      "d4    6.00\n",
      "dtype: float64\n"
     ]
    }
   ],
   "source": [
    "print(df.mean())"
   ]
  },
  {
   "cell_type": "code",
   "execution_count": 18,
   "metadata": {},
   "outputs": [
    {
     "name": "stdout",
     "output_type": "stream",
     "text": [
      "    d1  d2  d3  d4\n",
      "0  6.0   1   2   2\n",
      "1  NaN   2   5   6\n",
      "2  NaN   3   7   7\n",
      "3  NaN   4   8   9\n"
     ]
    }
   ],
   "source": [
    "print(df.mode())"
   ]
  },
  {
   "cell_type": "code",
   "execution_count": 19,
   "metadata": {},
   "outputs": [
    {
     "name": "stdout",
     "output_type": "stream",
     "text": [
      "d1    5.0\n",
      "d2    2.5\n",
      "d3    6.0\n",
      "d4    6.5\n",
      "dtype: float64\n"
     ]
    }
   ],
   "source": [
    "print(df.median())"
   ]
  },
  {
   "cell_type": "code",
   "execution_count": 20,
   "metadata": {},
   "outputs": [
    {
     "name": "stdout",
     "output_type": "stream",
     "text": [
      "d1    2.250000\n",
      "d2    1.666667\n",
      "d3    7.000000\n",
      "d4    8.666667\n",
      "dtype: float64\n"
     ]
    }
   ],
   "source": [
    "print(df.var()) #variance"
   ]
  },
  {
   "cell_type": "code",
   "execution_count": 21,
   "metadata": {},
   "outputs": [
    {
     "name": "stdout",
     "output_type": "stream",
     "text": [
      "d1    1.500000\n",
      "d2    1.290994\n",
      "d3    2.645751\n",
      "d4    2.943920\n",
      "dtype: float64\n"
     ]
    }
   ],
   "source": [
    "print(df.std()) #standard deviation"
   ]
  }
 ],
 "metadata": {
  "kernelspec": {
   "display_name": "Python 3",
   "language": "python",
   "name": "python3"
  },
  "language_info": {
   "codemirror_mode": {
    "name": "ipython",
    "version": 3
   },
   "file_extension": ".py",
   "mimetype": "text/x-python",
   "name": "python",
   "nbconvert_exporter": "python",
   "pygments_lexer": "ipython3",
   "version": "3.11.9"
  }
 },
 "nbformat": 4,
 "nbformat_minor": 2
}
