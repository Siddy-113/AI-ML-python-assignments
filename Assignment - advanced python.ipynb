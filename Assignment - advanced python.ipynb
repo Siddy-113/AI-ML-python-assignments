{
 "cells": [
  {
   "cell_type": "code",
   "execution_count": 20,
   "metadata": {},
   "outputs": [
    {
     "name": "stdout",
     "output_type": "stream",
     "text": [
      "[1, 2, 3]\n",
      "[1, 3, 2]\n",
      "[2, 1, 3]\n",
      "[2, 3, 1]\n",
      "[3, 1, 2]\n",
      "[3, 2, 1]\n"
     ]
    }
   ],
   "source": [
    "#function that takes a list and returns all possible permutations in the list\n",
    "def permutation(elements):\n",
    "    if len(elements)==0:\n",
    "        return []\n",
    "    elif len(elements)==1:\n",
    "        return [elements]\n",
    "    \n",
    "    per=[]\n",
    "    for i in range (len(elements)):\n",
    "        a=elements[i]\n",
    "        x=elements[:i] + elements[i+1:]\n",
    "        \n",
    "        for j in permutation(x):\n",
    "            per.append([a]+j)\n",
    "    return per\n",
    "\n",
    "data=[1,2,3]\n",
    "for k in (permutation(data)):\n",
    "    print(k)"
   ]
  },
  {
   "cell_type": "code",
   "execution_count": 11,
   "metadata": {},
   "outputs": [
    {
     "data": {
      "text/plain": [
       "[3, 4, 5, 1, 2]"
      ]
     },
     "execution_count": 11,
     "metadata": {},
     "output_type": "execute_result"
    }
   ],
   "source": [
    "#implement a function to rotate a list to the right by k steps, where k is non-negative\n",
    "og=3\n",
    "k=og-1\n",
    "sample=[1,2,3,4,5]\n",
    "result= sample[k:] + sample[:k]\n",
    "result\n"
   ]
  },
  {
   "cell_type": "code",
   "execution_count": 3,
   "metadata": {},
   "outputs": [
    {
     "name": "stdout",
     "output_type": "stream",
     "text": [
      "[0.0, 0.25, 0.5, 0.75, 1.0]\n"
     ]
    }
   ],
   "source": [
    "#write a function to normalise a list of numerical features using min-max scaling. for a list features=[10,20,30,40,50], transform it so that all values are between 0 and 1\n",
    "\n",
    "def min_max_scaling(features):\n",
    "    min_val = min(features)\n",
    "    max_val = max(features)\n",
    "    \n",
    "    normalized_features = [(x - min_val) / (max_val - min_val) for x in features]\n",
    "    \n",
    "    return normalized_features\n",
    "\n",
    "\n",
    "features = [10, 20, 30, 40, 50]\n",
    "normalized_features = min_max_scaling(features)\n",
    "print(normalized_features)\n",
    "\n"
   ]
  },
  {
   "cell_type": "code",
   "execution_count": 9,
   "metadata": {},
   "outputs": [
    {
     "name": "stdout",
     "output_type": "stream",
     "text": [
      "Label Encoded Data:\n",
      "[2 0 2 1]\n",
      "One hot encoded data:\n",
      "[[0. 0. 1.]\n",
      " [1. 0. 0.]\n",
      " [0. 0. 1.]\n",
      " [0. 1. 0.]]\n"
     ]
    }
   ],
   "source": [
    "# Given a list of categorical features, wite a function to convert it into a one-hot encoded matrix. [\"Red\", \"Blue\", \"Red\", \"Green\"] into [[1,0,0], [0,1,0], [0,0,1]].\n",
    "from sklearn.preprocessing import OneHotEncoder\n",
    "from sklearn.preprocessing import LabelEncoder\n",
    "import pandas as pd\n",
    "sample=[\"Red\", \"Blue\", \"Red\", \"Green\"]\n",
    "df=pd.DataFrame(sample, columns=[\"Color\"])\n",
    "\n",
    "label_encoder=LabelEncoder()\n",
    "df['Color_label'] = label_encoder.fit_transform(df['Color'])\n",
    "print(\"Label Encoded Data:\")\n",
    "print(df['Color_label'].values)\n",
    "\n",
    "onehot = OneHotEncoder(sparse_output=False) \n",
    "encode = onehot.fit_transform(df[['Color_label']])\n",
    "print(\"One hot encoded data:\")\n",
    "print(encode)\n",
    "\n"
   ]
  }
 ],
 "metadata": {
  "kernelspec": {
   "display_name": "Python 3",
   "language": "python",
   "name": "python3"
  },
  "language_info": {
   "codemirror_mode": {
    "name": "ipython",
    "version": 3
   },
   "file_extension": ".py",
   "mimetype": "text/x-python",
   "name": "python",
   "nbconvert_exporter": "python",
   "pygments_lexer": "ipython3",
   "version": "3.11.9"
  }
 },
 "nbformat": 4,
 "nbformat_minor": 2
}
