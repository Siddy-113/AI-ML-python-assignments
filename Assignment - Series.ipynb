{
 "cells": [
  {
   "cell_type": "code",
   "execution_count": 1,
   "metadata": {},
   "outputs": [
    {
     "name": "stdout",
     "output_type": "stream",
     "text": [
      "     X       Y       Z\n",
      "1    a     red     NaN\n",
      "2    b    blue     NaN\n",
      "3    c   green   Delhi\n",
      "4    d  yellow     NaN\n",
      "0  NaN     NaN    Pune\n",
      "b  NaN     NaN  Bhopal\n",
      "m  NaN     NaN  Mumbai\n"
     ]
    }
   ],
   "source": [
    "import pandas as pd\n",
    "data={\n",
    "    'X' : {1:' a', 2: 'b' ,3:'c', 4:'d'},\n",
    "    'Y' : {1: 'red', 2:'blue', 3:'green', 4:'yellow'},\n",
    "    'Z' : {0:'Pune', 'b':'Bhopal', 3:'Delhi', 'm':'Mumbai'}\n",
    "}\n",
    "\n",
    "df=pd.DataFrame(data)\n",
    "print(df)"
   ]
  },
  {
   "cell_type": "code",
   "execution_count": 2,
   "metadata": {},
   "outputs": [
    {
     "name": "stdout",
     "output_type": "stream",
     "text": [
      "   0  1  2  3  4\n",
      "0  1  2  3  4  5\n",
      "1  a  b  c  d  e\n"
     ]
    }
   ],
   "source": [
    "ser1=pd.Series((1,2,3,4,5))\n",
    "ser2=pd.Series(('a','b','c','d','e'))\n",
    "df2=pd.DataFrame([ser1,ser2])\n",
    "print(df2)\n"
   ]
  },
  {
   "cell_type": "code",
   "execution_count": 8,
   "metadata": {},
   "outputs": [
    {
     "name": "stdout",
     "output_type": "stream",
     "text": [
      "           Alex  Betty  Sid  Terry\n",
      "Math         90     85   79     34\n",
      "Computers    90     85   79     34\n"
     ]
    }
   ],
   "source": [
    "Students_marks={\n",
    "    \"Alex\" : 90,\n",
    "    \"Betty\" : 85,\n",
    "    \"Sid\" : 79,\n",
    "    \"Terry\" : 34\n",
    "}\n",
    "\n",
    "s1=pd.Series(Students_marks)\n",
    "s2=pd.Series(Students_marks)\n",
    "df3=pd.DataFrame([s1,s2], index=[\"Math\", \"Computers\"])\n",
    "print(df3)"
   ]
  }
 ],
 "metadata": {
  "kernelspec": {
   "display_name": "Python 3",
   "language": "python",
   "name": "python3"
  },
  "language_info": {
   "codemirror_mode": {
    "name": "ipython",
    "version": 3
   },
   "file_extension": ".py",
   "mimetype": "text/x-python",
   "name": "python",
   "nbconvert_exporter": "python",
   "pygments_lexer": "ipython3",
   "version": "3.11.9"
  }
 },
 "nbformat": 4,
 "nbformat_minor": 2
}
