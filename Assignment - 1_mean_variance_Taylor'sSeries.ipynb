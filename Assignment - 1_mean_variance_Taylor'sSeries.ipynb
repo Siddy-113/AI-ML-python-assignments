{
 "cells": [
  {
   "cell_type": "code",
   "execution_count": 2,
   "metadata": {},
   "outputs": [
    {
     "name": "stdout",
     "output_type": "stream",
     "text": [
      "Mean 6.166666666666667\n"
     ]
    }
   ],
   "source": [
    "# Mean program\n",
    "a=[8,5,7,2,9,6]\n",
    "mean = sum(a)/len(a)\n",
    "print(\"Mean\",mean)"
   ]
  },
  {
   "cell_type": "code",
   "execution_count": 3,
   "metadata": {},
   "outputs": [
    {
     "name": "stdout",
     "output_type": "stream",
     "text": [
      "variance: 5.138888888888889\n",
      "Standard deviation: 2.266911751455907\n"
     ]
    }
   ],
   "source": [
    "#variance and standard deviation program\n",
    "n=len(a)\n",
    "# x2=mean\n",
    "dev=[(x-mean)**2 for x in a]\n",
    "variance= sum(dev)/n\n",
    "Stdeviation = variance ** 0.5\n",
    "print(\"variance:\", variance)\n",
    "print(\"Standard deviation:\", Stdeviation)"
   ]
  },
  {
   "cell_type": "code",
   "execution_count": 4,
   "metadata": {},
   "outputs": [
    {
     "name": "stdout",
     "output_type": "stream",
     "text": [
      "Taylor series approximation of sin(45 degrees): 0.7071067811865475\n",
      "Taylor series approximation of cos(45 degrees): 0.7071067811865475\n"
     ]
    }
   ],
   "source": [
    "#Taylor's series\n",
    "#sin expansion\n",
    "\n",
    "import math\n",
    "def taylorsin(x,n_terms):\n",
    "    sine=0\n",
    "    for n in range(n_terms):\n",
    "        term=(-1) ** n * x ** (2 * n + 1) / math.factorial(2 * n + 1)\n",
    "        sine += term\n",
    "    return sine\n",
    "\n",
    "#cosine expansion\n",
    "\n",
    "def taylorcosine(x, n_terms):\n",
    "    cosine=0\n",
    "    for n in range(n_terms):\n",
    "        term = (-1) ** n * x ** (2 * n) / math.factorial( 2 * n )\n",
    "        cosine += term\n",
    "    return cosine\n",
    "\n",
    "\n",
    "#implementation\n",
    "angle = math.radians(45)\n",
    "n_terms = 10\n",
    "\n",
    "sin_approx = taylorsin(angle, n_terms)\n",
    "cos_approx = taylorcosine(angle, n_terms)\n",
    "\n",
    "print(f\"Taylor series approximation of sin(45 degrees): {sin_approx}\")\n",
    "print(f\"Taylor series approximation of cos(45 degrees): {cos_approx}\")"
   ]
  }
 ],
 "metadata": {
  "kernelspec": {
   "display_name": "Python 3",
   "language": "python",
   "name": "python3"
  },
  "language_info": {
   "codemirror_mode": {
    "name": "ipython",
    "version": 3
   },
   "file_extension": ".py",
   "mimetype": "text/x-python",
   "name": "python",
   "nbconvert_exporter": "python",
   "pygments_lexer": "ipython3",
   "version": "3.11.9"
  }
 },
 "nbformat": 4,
 "nbformat_minor": 2
}
