{
 "cells": [
  {
   "cell_type": "code",
   "execution_count": 14,
   "metadata": {},
   "outputs": [
    {
     "name": "stdout",
     "output_type": "stream",
     "text": [
      "{'python': 'program', 'anaconda': 'snake', 'trial': 'value'}\n"
     ]
    }
   ],
   "source": [
    "# Transform a list of tuples into a dictionary where the first element of each tuple is the key and the second element is the value. \n",
    "\n",
    "data1=[('python','program'),('anaconda','snake'),('trial','value')]\n",
    "convert=dict(data1)\n",
    "print(convert)"
   ]
  },
  {
   "cell_type": "code",
   "execution_count": 9,
   "metadata": {},
   "outputs": [
    {
     "name": "stdout",
     "output_type": "stream",
     "text": [
      "{'Quokka': 1, 'is': 1, 'the': 1, 'happiest': 1, 'animal': 1}\n"
     ]
    }
   ],
   "source": [
    "# Create a dictionary to count word frequencies in a text, performing sentiment analysis or topic modeling.\n",
    "text=\"Quokka is the happiest animal\"\n",
    "\n",
    "text_string=text.split(\" \")\n",
    "empty={}\n",
    "\n",
    "for i in text_string:\n",
    "    if i in empty:\n",
    "        empty[i]+=1\n",
    "    else:\n",
    "        empty[i]=1\n",
    "\n",
    "print(empty)"
   ]
  },
  {
   "cell_type": "code",
   "execution_count": 3,
   "metadata": {},
   "outputs": [
    {
     "name": "stdout",
     "output_type": "stream",
     "text": [
      "{'red': 'apple', 'blue': 'butterfly', 'dark': 'chocolate', 'green': 'grass'}\n",
      "{'blue': 1, 'red': 2, 'dark': 3, 'green': 4}\n"
     ]
    }
   ],
   "source": [
    "# create a dictionary where keys are sorted by their corresponding values\n",
    "data_string={ \"green\": \"grass\",  \"red\": \"apple\", \"dark\":\"chocolate\",\"blue\":\"butterfly\"}\n",
    "data_int={\"green\":4, \"red\":2, \"dark\":3, \"blue\":1}\n",
    "\n",
    "string_sort_dict=dict(sorted(data_string.items(), key=lambda item: item[1]))\n",
    "print(string_sort_dict)\n",
    "int_sort_dict=dict(sorted(data_int.items(), key=lambda item: item[1]))\n",
    "print(int_sort_dict)"
   ]
  },
  {
   "cell_type": "code",
   "execution_count": 14,
   "metadata": {},
   "outputs": [
    {
     "name": "stdout",
     "output_type": "stream",
     "text": [
      "{'v1': 0.16666666666666666, 'v2': 0.3333333333333333, 'v3': 0.5}\n"
     ]
    }
   ],
   "source": [
    "# Calculate the probability distribution of values in a dictionary\n",
    "data3={'v1':10,'v2':20,'v3':30}\n",
    "data_sum=sum(data3.values())\n",
    "probability_distribution = {key: value / data_sum for key, value in data3.items()}\n",
    "print(probability_distribution)\n"
   ]
  },
  {
   "cell_type": "code",
   "execution_count": 11,
   "metadata": {},
   "outputs": [
    {
     "name": "stdout",
     "output_type": "stream",
     "text": [
      "Mean= 20.0\n",
      "20\n",
      "10.0\n"
     ]
    }
   ],
   "source": [
    "# Calculate the mean, median, and standard deviation of values in a dictionary\n",
    "data3={'v1':10,'v2':20,'v3':30}\n",
    "numbers=data3.values()\n",
    "num_list=list(numbers)\n",
    "\n",
    "mean=sum(num_list)/len(num_list)\n",
    "print(\"Mean=\", mean)\n",
    "\n",
    "import statistics\n",
    "\n",
    "median=statistics.median(num_list)\n",
    "print(median)\n",
    "\n",
    "sd=statistics.stdev(num_list)\n",
    "print(sd)"
   ]
  }
 ],
 "metadata": {
  "kernelspec": {
   "display_name": "Python 3",
   "language": "python",
   "name": "python3"
  },
  "language_info": {
   "codemirror_mode": {
    "name": "ipython",
    "version": 3
   },
   "file_extension": ".py",
   "mimetype": "text/x-python",
   "name": "python",
   "nbconvert_exporter": "python",
   "pygments_lexer": "ipython3",
   "version": "3.11.9"
  }
 },
 "nbformat": 4,
 "nbformat_minor": 2
}
